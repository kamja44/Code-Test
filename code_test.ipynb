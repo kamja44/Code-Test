{
 "cells": [
  {
   "cell_type": "code",
   "execution_count": 12,
   "outputs": [
    {
     "name": "stdout",
     "output_type": "stream",
     "text": [
      "68.33333333333333\n"
     ]
    }
   ],
   "source": [
    "N = int(input())\n",
    "scores = list(map(int, input().split()))\n",
    "\n",
    "M = max(scores)\n",
    "total = 0\n",
    "for x in scores:\n",
    "    if x != M:\n",
    "        new_score = x/M * 100\n",
    "    else:\n",
    "        new_score = x\n",
    "    total += new_score\n",
    "avg = total / N\n",
    "print(avg)\n",
    "        "
   ],
   "metadata": {
    "collapsed": false,
    "ExecuteTime": {
     "end_time": "2024-03-14T05:04:35.582936800Z",
     "start_time": "2024-03-14T05:04:31.212768300Z"
    }
   },
   "id": "2294e0e58c94ca2e"
  },
  {
   "cell_type": "code",
   "execution_count": 11,
   "outputs": [
    {
     "name": "stdout",
     "output_type": "stream",
     "text": [
      "68.33333333333333\n"
     ]
    }
   ],
   "source": [
    "N = int(input())\n",
    "scores = list(map(int, input().split()))\n",
    "\n",
    "M = max(scores)\n",
    "total = 0\n",
    "for x in scores:\n",
    "    # 수정된 부분: scores[x] 대신 x를 사용\n",
    "    if x != M:\n",
    "        new_score = x / M * 100\n",
    "    else:\n",
    "        new_score = x\n",
    "    total += new_score\n",
    "# 수정된 부분: scores.count() 대신 N을 사용\n",
    "avg = total / N\n",
    "print(avg)\n"
   ],
   "metadata": {
    "collapsed": false,
    "ExecuteTime": {
     "end_time": "2024-03-14T05:04:06.976265900Z",
     "start_time": "2024-03-14T05:04:04.368218100Z"
    }
   },
   "id": "21ba51ed62777683"
  },
  {
   "cell_type": "markdown",
   "source": [],
   "metadata": {
    "collapsed": false
   },
   "id": "4c0a41187fed7442"
  },
  {
   "cell_type": "code",
   "execution_count": 13,
   "outputs": [
    {
     "name": "stdout",
     "output_type": "stream",
     "text": [
      "75.0\n"
     ]
    }
   ],
   "source": [
    "N = int(input())\n",
    "scores = list(map(int, input().split()))\n",
    "\n",
    "M = max(scores)\n",
    "total = 0\n",
    "for x in scores:\n",
    "    # 모든 점수에 대해 변환 공식 적용\n",
    "    new_score = x / M * 100\n",
    "    total += new_score\n",
    "# 점수들의 총합을 점수의 개수로 나누어 평균 계산\n",
    "avg = total / N\n",
    "print(avg)"
   ],
   "metadata": {
    "collapsed": false,
    "ExecuteTime": {
     "end_time": "2024-03-14T05:06:19.227403500Z",
     "start_time": "2024-03-14T05:06:16.240405500Z"
    }
   },
   "id": "53f5114aebf66b3"
  },
  {
   "cell_type": "code",
   "execution_count": 14,
   "outputs": [
    {
     "ename": "TypeError",
     "evalue": "repaint_chess_board() missing 2 required positional arguments: 'start_row' and 'start_col'",
     "output_type": "error",
     "traceback": [
      "\u001B[1;31m---------------------------------------------------------------------------\u001B[0m",
      "\u001B[1;31mTypeError\u001B[0m                                 Traceback (most recent call last)",
      "Cell \u001B[1;32mIn[14], line 33\u001B[0m\n\u001B[0;32m     31\u001B[0m \u001B[38;5;28;01mfor\u001B[39;00m start_row \u001B[38;5;129;01min\u001B[39;00m \u001B[38;5;28mrange\u001B[39m(N \u001B[38;5;241m-\u001B[39m \u001B[38;5;241m7\u001B[39m):\n\u001B[0;32m     32\u001B[0m     \u001B[38;5;28;01mfor\u001B[39;00m start_col \u001B[38;5;129;01min\u001B[39;00m \u001B[38;5;28mrange\u001B[39m(M \u001B[38;5;241m-\u001B[39m \u001B[38;5;241m7\u001B[39m):\n\u001B[1;32m---> 33\u001B[0m         min_paint \u001B[38;5;241m=\u001B[39m \u001B[38;5;28mmin\u001B[39m(min_paint, \u001B[43mrepaint_chess_board\u001B[49m\u001B[43m(\u001B[49m\u001B[43m(\u001B[49m\u001B[43mboard\u001B[49m\u001B[43m,\u001B[49m\u001B[43m \u001B[49m\u001B[43mstart_row\u001B[49m\u001B[43m,\u001B[49m\u001B[43m \u001B[49m\u001B[43mstart_col\u001B[49m\u001B[43m)\u001B[49m\u001B[43m)\u001B[49m)\n\u001B[0;32m     35\u001B[0m \u001B[38;5;28mprint\u001B[39m(min_paint)\n",
      "\u001B[1;31mTypeError\u001B[0m: repaint_chess_board() missing 2 required positional arguments: 'start_row' and 'start_col'"
     ]
    }
   ],
   "source": [
    "def repaint_chess_board(board, start_row, start_col):\n",
    "    # 체스판을 칠하는 2가지 방법\n",
    "    # 1. B로 시작하는 경우, 2. W로 시작하는 경우\n",
    "    color_options = [\"B\", \"W\"] # 체스판을 시작할 수 있는 두가지 색\n",
    "    min_repaint = float(\"inf\") # 최소 재색칠 횟수를 무한대로 초기화\n",
    "    \n",
    "    # 두 가지 색상 옵션에 대해 반복\n",
    "    # 체스판의 시작 색깔별로 루프를 한다.\n",
    "    for start_color in color_options:\n",
    "        repaint_count = 0 # 현재 옵션에 대한 재색칠 횟수 초기화\n",
    "        current_color = start_color # 현재 색상을 시작 색상으로 설정\n",
    "        # 8x8 체스판을 순회\n",
    "        for i in range(start_row, start_row + 8):\n",
    "            for j in range(start_col, start_col + 8):\n",
    "                if board[i][j] != current_color: # 현재 칸이 예상 색상과 다르면 재색칠 필요\n",
    "                    repaint_count += 1\n",
    "                # 다음 칸은 다른색이여야 한다\n",
    "                current_color = \"B\" if current_color == \"W\" else \"W\"\n",
    "            # 다음 줄의 첫 칸도 색이 바뀌어야 한다.\n",
    "            current_color = \"B\" if current_color == \"W\" else \"W\"\n",
    "            \n",
    "        #최소 재색칠 횟수 업데이트\n",
    "        min_repaint = min(min_repaint, repaint_count)\n",
    "    return min_repaint\n",
    "\n",
    "# 입력\n",
    "N, M = map(int, input().split())\n",
    "board = [input() for _ in range(N)]\n",
    "\n",
    "# 가능한 모든 8x8 영역에 대하여 최소 재색칠 횟수를 찾는다.\n",
    "min_paint = float(\"inf\")\n",
    "for start_row in range(N - 7):\n",
    "    for start_col in range(M - 7):\n",
    "        min_paint = min(min_paint, repaint_chess_board(board, start_row, start_col))\n",
    "\n",
    "print(min_paint)"
   ],
   "metadata": {
    "collapsed": false,
    "ExecuteTime": {
     "end_time": "2024-03-14T14:05:40.406697Z",
     "start_time": "2024-03-14T14:05:31.812232Z"
    }
   },
   "id": "44d30ae24ca05d8a"
  },
  {
   "cell_type": "code",
   "execution_count": null,
   "outputs": [],
   "source": [
    "N, M = map(int, input().split())\n",
    "board = [input() for _ in range(N)]\n",
    "\n",
    "def repaint_chess_board(board, start_row, start_col):\n",
    "    color = [\"B\", \"W\"]\n",
    "    min_repaint = float(\"inf\")\n",
    "    \n",
    "    # 색깔별 루프\n",
    "    for start_color in color:\n",
    "        repaint_count = 0\n",
    "        current_color = start_color\n",
    "        for i in range(start_row, start_row+8):\n",
    "            for j in range(start_col, start_col+8):\n",
    "                if board[i][j] != current_color:\n",
    "                    repaint_count += 1\n",
    "                current_color = \"B\" if current_color == \"W\" else \"W\"\n",
    "            current_color = \"B\" if current_color == \"W\" else \"W\"\n",
    "        min_repaint = min(min_repaint, repaint_count)\n",
    "    return min_repaint\n",
    "\n",
    "for start_row in range(N - 7):\n",
    "    for start_col in range(M - 7):\n",
    "        min_paint = min(min_paint, repaint_chess_board(board, start_row, start_col))\n",
    "\n",
    "print(min_paint)"
   ],
   "metadata": {
    "collapsed": false
   },
   "id": "bfc0dc120441a216"
  },
  {
   "cell_type": "code",
   "execution_count": null,
   "outputs": [],
   "source": [
    "N = int(input())\n",
    "words = {input().strip() for _ in range(N)}\n",
    "\n",
    "# 단어 리스트로 변환 후, 조건에 따라 정렬한다.\n",
    "# 첫 번째 조건: 단어의 길이, 두 번째 조건: 사전 순\n",
    "sorted_words = sorted(list(words), key=lambda word: (len(word), word))\n",
    "\n",
    "# 정렬된 단어 출력\n",
    "for word in sorted_words:\n",
    "    print(word)"
   ],
   "metadata": {
    "collapsed": false
   },
   "id": "c45ffa9f9f641dc5"
  },
  {
   "cell_type": "code",
   "execution_count": null,
   "outputs": [],
   "source": [
    "while True:\n",
    "    num = input()\n",
    "    if num == \"0\":\n",
    "        break\n",
    "    \n",
    "    # 팰린드롬 판별: 입력받은 수와 그 수의 역순이 같은지 비교한다.\n",
    "    if num == num[::-1]:\n",
    "        print(\"yes\")\n",
    "    else:\n",
    "        print(\"no\")"
   ],
   "metadata": {
    "collapsed": false
   },
   "id": "19c5095a3d903076"
  },
  {
   "cell_type": "code",
   "execution_count": 19,
   "outputs": [
    {
     "name": "stdout",
     "output_type": "stream",
     "text": [
      "166699\n"
     ]
    }
   ],
   "source": [
    "N = int(input())\n",
    "\n",
    "number = 666\n",
    "count = 0\n",
    "\n",
    "while True:\n",
    "    if \"666\" in str(number):\n",
    "        count += 1\n",
    "    if count == N:\n",
    "        print(number)\n",
    "        break\n",
    "    number += 1"
   ],
   "metadata": {
    "collapsed": false,
    "ExecuteTime": {
     "end_time": "2024-03-14T15:27:18.706197500Z",
     "start_time": "2024-03-14T15:27:17.036988200Z"
    }
   },
   "id": "a1d96b9ef08f4121"
  },
  {
   "cell_type": "code",
   "execution_count": null,
   "outputs": [],
   "source": [
    "# 입력 받기: K개 랜선의 수, N개 만들고 싶은 랜선의 수\n",
    "K, N = map(int, input().split())\n",
    "\n",
    "lan_cables = [int(input()) for _ in range(K)] # K개의 랜선 길이 입력 받기\n",
    "\n",
    "# 이진 탐색을 위한 시작점과 끝점 설정\n",
    "start, end = 1, max(lan_cables)\n",
    "\n",
    "# 이진 탐색 수행\n",
    "while start <= end:\n",
    "    mid = (start + end) // 2 # 중간 길이\n",
    "    count = sum(cable // mid for cable in lan_cables) # 현재 길이로 만들 수 있는 랜선 개수\n",
    "    \n",
    "    if count >= N: # 만들 수 있는 랜선의 개수가 요구하는 개수보다 많거나 같으면\n",
    "        start = mid + 1 # 더 긴 길이를 탐색하기 위해 start 조정\n",
    "    else: # 만들 수 있는 랜선의 개수가 요구하는 개수보다 적으면\n",
    "        end = mid - 1 # 더 짧은 길이를 탐색하기 위해 end 조정\n",
    "# 탐색 종료 후 end에 저장된 값이 만들 수 있는 최대 랜선의 길이이다.\n",
    "print(end)"
   ],
   "metadata": {
    "collapsed": false
   },
   "id": "960f1929be2fbf3d"
  },
  {
   "cell_type": "code",
   "execution_count": null,
   "outputs": [],
   "source": [
    "def find_trailing_zeros(n):\n",
    "    # 5의 개수를 세기 위한 변수\n",
    "    count = 0\n",
    "    \n",
    "    # 5, 25, 125 등으로 N을 나눈 몫을 계속 더한다.\n",
    "    while n >= 5:\n",
    "        n = n//5\n",
    "        count += n\n",
    "        \n",
    "    return count\n",
    "\n",
    "N = int(input())\n",
    "\n",
    "\n",
    "\n",
    "zeros = find_trailing_zeros(N)\n",
    "print(zeros)"
   ],
   "metadata": {
    "collapsed": false
   },
   "id": "f5844df6a978deb7"
  },
  {
   "cell_type": "code",
   "execution_count": 20,
   "outputs": [
    {
     "ename": "SyntaxError",
     "evalue": "expected ':' (2770222071.py, line 8)",
     "output_type": "error",
     "traceback": [
      "\u001B[1;36m  Cell \u001B[1;32mIn[20], line 8\u001B[1;36m\u001B[0m\n\u001B[1;33m    if number % i == 0\u001B[0m\n\u001B[1;37m                      ^\u001B[0m\n\u001B[1;31mSyntaxError\u001B[0m\u001B[1;31m:\u001B[0m expected ':'\n"
     ]
    }
   ],
   "source": [
    "N = int(input())\n",
    "nums = list(map(int, input().split()))\n",
    "\n",
    "def function(number):\n",
    "    if number < 2:\n",
    "        return False\n",
    "    for i in range(2, int(number ** 0.5) + 1):\n",
    "        if number % i == 0\n",
    "            return False\n",
    "    return True\n",
    "\n",
    "count = 0\n",
    "\n",
    "for item in nums:\n",
    "    if function(item):\n",
    "        count += 1\n",
    "print(count)"
   ],
   "metadata": {
    "collapsed": false,
    "ExecuteTime": {
     "end_time": "2024-03-15T01:52:57.793918100Z",
     "start_time": "2024-03-15T01:52:57.785918600Z"
    }
   },
   "id": "245bff08453919d0"
  },
  {
   "cell_type": "markdown",
   "source": [
    "백준 1874"
   ],
   "metadata": {
    "collapsed": false
   },
   "id": "d3c16b35ca2fc244"
  },
  {
   "cell_type": "code",
   "execution_count": 25,
   "outputs": [
    {
     "name": "stdout",
     "output_type": "stream",
     "text": [
      "+\n",
      "+\n",
      "+\n",
      "+\n",
      "-\n",
      "-\n",
      "+\n",
      "+\n",
      "-\n",
      "+\n",
      "+\n",
      "-\n",
      "-\n",
      "-\n",
      "-\n",
      "-\n"
     ]
    }
   ],
   "source": [
    "n = int(input(\"수열의 길이 n 입력\")) # 수열의 길이 n\n",
    "sequence = [int(input(\"수열 입력\")) for _ in range(n)] # 수열 입력 받기\n",
    "\n",
    "stack = [] # 스택 초기화\n",
    "result = [] # push/pop 연산 순서 저장\n",
    "current = 1 # 스택에 push할 현재 숫자\n",
    "\n",
    "for num in sequence:\n",
    "    while current <= num: # 현재 숫자를 수열의 숫자까지 push\n",
    "        stack.append(current)\n",
    "        result.append(\"+\")\n",
    "        current += 1\n",
    "    if stack[-1] == num: # 스택의 top이 수열의 현재 숫자와 같으면 pop\n",
    "        stack.pop()\n",
    "        result.append(\"-\")\n",
    "    else: # 스택의 top이 수열의 현재 숫자와 다르면 해당 수열을 만들 수 없다.\n",
    "        print(\"NO\")\n",
    "        break\n",
    "else: # 주어진 수열을 만들 수 있는 경우\n",
    "    print(\"\\n\".join(result)) # 연산 순서 출력\n",
    "        "
   ],
   "metadata": {
    "collapsed": false,
    "ExecuteTime": {
     "end_time": "2024-03-15T03:22:37.673918200Z",
     "start_time": "2024-03-15T03:22:30.000389300Z"
    }
   },
   "id": "ae0058f2a06cfc31"
  },
  {
   "cell_type": "markdown",
   "source": [
    "1920"
   ],
   "metadata": {
    "collapsed": false
   },
   "id": "4817cbf4ff5840d3"
  },
  {
   "cell_type": "code",
   "execution_count": 2,
   "outputs": [
    {
     "name": "stdout",
     "output_type": "stream",
     "text": [
      "1\n",
      "1\n",
      "0\n",
      "0\n",
      "1\n"
     ]
    }
   ],
   "source": [
    "N = int(input(\"N 입력\")) \n",
    "A = set(map(int, input(\"A 리스트\").split())) # N개의 정수를 입력받아 집합으로 변환\n",
    "\n",
    "M = int(input(\"M 입력\")) \n",
    "M_list = list(map(int, input(\"M 리스트\").split())) # M개의 수를 입력받는다.\n",
    "\n",
    "# M개의 수들이 A안에 존재하는지 확인\n",
    "for num in M_list:\n",
    "    if num in A:\n",
    "        print(1)\n",
    "    else:\n",
    "        print(0)"
   ],
   "metadata": {
    "collapsed": false,
    "ExecuteTime": {
     "end_time": "2024-03-15T03:42:19.316371900Z",
     "start_time": "2024-03-15T03:42:08.130635100Z"
    }
   },
   "id": "97bd8bc8c69ef2fd"
  },
  {
   "cell_type": "markdown",
   "source": [
    "1929 소수 구하기"
   ],
   "metadata": {
    "collapsed": false
   },
   "id": "780c9b3af8a69dae"
  },
  {
   "cell_type": "code",
   "execution_count": 4,
   "outputs": [
    {
     "name": "stdout",
     "output_type": "stream",
     "text": [
      "3\n",
      "5\n",
      "7\n",
      "11\n",
      "13\n"
     ]
    }
   ],
   "source": [
    "M, N = list(map(int, input(\"M, N 입력\").split()))\n",
    "\n",
    "# 에라토스테네스의 체 초기화: 0과 1을 제외한 모든 수를 소수로 가정한다. \n",
    "prime = [True] * (N + 1)\n",
    "prime[0] = prime[1] = False\n",
    "\n",
    "for i in range(2, int(N ** 0.5)+1):\n",
    "    if prime[i]:\n",
    "        for j in range(i * i, N + 1, i):\n",
    "            prime[j] = False\n",
    "            \n",
    "for i in range(M, N+1):\n",
    "    if prime[i]:\n",
    "        print(i)"
   ],
   "metadata": {
    "collapsed": false,
    "ExecuteTime": {
     "end_time": "2024-03-15T04:03:16.717956100Z",
     "start_time": "2024-03-15T04:03:14.248315300Z"
    }
   },
   "id": "9d751c7f12f60a9a"
  },
  {
   "cell_type": "markdown",
   "source": [
    "1966 프린터 큐"
   ],
   "metadata": {
    "collapsed": false
   },
   "id": "fcb8ce66af172ccb"
  },
  {
   "cell_type": "code",
   "outputs": [
    {
     "name": "stdout",
     "output_type": "stream",
     "text": [
      "1\n",
      "2\n",
      "5\n"
     ]
    }
   ],
   "source": [
    "from collections import deque\n",
    "\n",
    "# 테스트케이스의 수 입력받기\n",
    "test_cases = int(input(\"테스트 케이스 수\"))\n",
    "\n",
    "for _ in range(test_cases):\n",
    "    N, M = map(int, input(\"N, M 입력\").split()) # 문서의 개수 N, 궁금한 문서의 위치 M\n",
    "    importance = list(map(int, input(\"각 문서의 중요도\").split())) # 각 문서의 중요도\n",
    "    \n",
    "    # (중요도, 인덱스) 튜플을 요소로 하는 큐 생성\n",
    "    queue = deque((value, idx) for idx, value in enumerate(importance))\n",
    "    print_order = 0 # 인쇄 순서\n",
    "    \n",
    "    while queue:\n",
    "        # 현재 큐의 맨 앞 문서\n",
    "        current = queue.popleft()\n",
    "        # 큐에 현재 문서보다 중요도가 높은 문서가 있다면 재배치한다.\n",
    "        if any(current[0] < q[0] for q in queue):\n",
    "            queue.append(current)\n",
    "        else:\n",
    "            print_order += 1 # 인쇄 순서를 1 증가\n",
    "            if current[1] == M: # 궁금한 문서가 인쇄될 차례라면\n",
    "                print(print_order) # 인쇄 순서 출력\n",
    "                break"
   ],
   "metadata": {
    "collapsed": false,
    "ExecuteTime": {
     "end_time": "2024-03-16T00:43:53.510821Z",
     "start_time": "2024-03-16T00:43:40.104027Z"
    }
   },
   "id": "9c23a6930b28a15d",
   "execution_count": 1
  },
  {
   "cell_type": "markdown",
   "source": [
    "2108 통계학\n",
    "\n",
    "input() => sys.stdin.readline()으로 변경하기(시간초과일 경우)"
   ],
   "metadata": {
    "collapsed": false
   },
   "id": "d27d9d782062f5d5"
  },
  {
   "cell_type": "code",
   "outputs": [
    {
     "name": "stdout",
     "output_type": "stream",
     "text": [
      "2\n",
      "2\n",
      "1\n",
      "10\n"
     ]
    }
   ],
   "source": [
    "import sys\n",
    "from collections import Counter\n",
    "\n",
    "N = int(input())\n",
    "\n",
    "numbers = [int(input()) for _ in range(N)]\n",
    "\n",
    "# 산술 평균\n",
    "mean = round(sum(numbers) / N)\n",
    "\n",
    "# 중앙값\n",
    "sorted_numbers = sorted(numbers)\n",
    "median = sorted_numbers[N // 2]\n",
    "\n",
    "# 최빈값\n",
    "counter = Counter(sorted_numbers)\n",
    "modes = counter.most_common()\n",
    "if len(modes) > 1 and modes[0][1] == modes[1][1]:\n",
    "    mode = modes[1][0] # 최빈값이 여러 개일 때 두 번째로 작은 값을 선택한다.\n",
    "else:\n",
    "    mode = modes[0][0]\n",
    "\n",
    "# 범위 계산\n",
    "range_value = max(numbers) - min(numbers)\n",
    "\n",
    "print(mean)\n",
    "print(median)\n",
    "print(mode)\n",
    "print(range_value)"
   ],
   "metadata": {
    "collapsed": false,
    "ExecuteTime": {
     "end_time": "2024-03-16T01:09:46.571221Z",
     "start_time": "2024-03-16T01:09:41.202410Z"
    }
   },
   "id": "28abf0af8181db46",
   "execution_count": 3
  },
  {
   "cell_type": "markdown",
   "source": [
    "2164 카드2"
   ],
   "metadata": {
    "collapsed": false
   },
   "id": "aa9c016c4400f333"
  },
  {
   "cell_type": "code",
   "outputs": [
    {
     "name": "stdout",
     "output_type": "stream",
     "text": [
      "deque([4])\n"
     ]
    }
   ],
   "source": [
    "from collections import deque\n",
    "\n",
    "N = int(input())\n",
    "\n",
    "# 1부터 N까지 번호가 붙은 카드를 deque로 생성한다.\n",
    "cards = deque(range(1, N+1))\n",
    "\n",
    "while len(cards) > 1:\n",
    "    # 제일 위의 카드 버리기\n",
    "    cards.popleft()\n",
    "    # 그 다음 카드 가장 뒤로 보내기\n",
    "    cards.append(cards.popleft())\n",
    "# 마지막으로 남은 카드 출력\n",
    "print(cards[0])"
   ],
   "metadata": {
    "collapsed": false,
    "ExecuteTime": {
     "end_time": "2024-03-16T01:33:30.169322Z",
     "start_time": "2024-03-16T01:33:28.551329Z"
    }
   },
   "id": "2f8643a5a93c5806",
   "execution_count": 4
  },
  {
   "cell_type": "markdown",
   "source": [
    "2231 분해합"
   ],
   "metadata": {
    "collapsed": false
   },
   "id": "26c951827dd95c82"
  },
  {
   "cell_type": "code",
   "outputs": [
    {
     "name": "stdout",
     "output_type": "stream",
     "text": [
      "198\n"
     ]
    }
   ],
   "source": [
    "def find_constructor(N):\n",
    "    for i in range(1, N):\n",
    "        # i와 i의 각 자리수 합을 더해서 분해합을 계산한다.\n",
    "        decomposition_sum = i + sum(map(int, str(i)))\n",
    "        # 분해합이 N과 같다면 i는 N의 생성자이다.\n",
    "        if decomposition_sum == N:\n",
    "            return i\n",
    "    return 0 # 생성자가 없다\n",
    "\n",
    "N = int(input())\n",
    "\n",
    "print(find_constructor(N))\n"
   ],
   "metadata": {
    "collapsed": false,
    "ExecuteTime": {
     "end_time": "2024-03-16T01:55:33.024983Z",
     "start_time": "2024-03-16T01:55:32.031234Z"
    }
   },
   "id": "80498e2111f173c0",
   "execution_count": 2
  },
  {
   "cell_type": "markdown",
   "source": [
    "2292 벌집"
   ],
   "metadata": {
    "collapsed": false
   },
   "id": "ca4d354a4ed149b8"
  },
  {
   "cell_type": "code",
   "outputs": [
    {
     "name": "stdout",
     "output_type": "stream",
     "text": [
      "3\n"
     ]
    }
   ],
   "source": [
    "N = int(input(\"수 입력\")) # 목표로 하는 방 번호 N 입력\n",
    "\n",
    "layer = 1 # 시작하는 중앙의 방을 1층으로 설정한다.\n",
    "count = 1 # 중앙의 방을 포함하여 지나가야 하는 최소 방의 개수\n",
    "\n",
    "# N이 1일 경우 바로 1 출력 후 종료\n",
    "if N == 1:\n",
    "    print(1)\n",
    "else:\n",
    "    while N > count:\n",
    "       count += 6 * layer # 다음 층으로 이동할 때마다 6의 배수만큼 방의 개수를 증가시킨다.\n",
    "       layer += 1 # 다음 층으로 이동한다.\n",
    "    print(layer)"
   ],
   "metadata": {
    "collapsed": false,
    "ExecuteTime": {
     "end_time": "2024-03-16T02:17:55.262794Z",
     "start_time": "2024-03-16T02:17:54.253347Z"
    }
   },
   "id": "a83b0685a73c7303",
   "execution_count": 3
  },
  {
   "cell_type": "markdown",
   "source": [
    "2609 최대공약수와 최소공배수"
   ],
   "metadata": {
    "collapsed": false
   },
   "id": "b735107220799de0"
  },
  {
   "cell_type": "code",
   "outputs": [
    {
     "name": "stdout",
     "output_type": "stream",
     "text": [
      "6\n",
      "72\n"
     ]
    }
   ],
   "source": [
    "def gcd(a, b):\n",
    "    \"\"\"최대 공약수를 계산하는 함수\"\"\"\n",
    "    while b != 0:\n",
    "        a, b = b, a % b\n",
    "    return a\n",
    "\n",
    "def lcm(a, b):\n",
    "    \"\"\"최소 공배수를 계산하는 함수\"\"\"\n",
    "    return a * b // gcd(a, b)\n",
    "\n",
    "# 입력 받기\n",
    "a, b = map(int, input().split())\n",
    "\n",
    "# 최대 공약수, 최소 공배수 계산\n",
    "gcd_result = gcd(a, b)\n",
    "lcm_result = lcm(a, b)\n",
    "\n",
    "# 결과 출력\n",
    "print(gcd_result)\n",
    "print(lcm_result)"
   ],
   "metadata": {
    "collapsed": false,
    "ExecuteTime": {
     "end_time": "2024-03-16T03:24:19.790633Z",
     "start_time": "2024-03-16T03:24:17.101653Z"
    }
   },
   "id": "6c1dd4809af967ac",
   "execution_count": 4
  },
  {
   "cell_type": "markdown",
   "source": [
    "2751 수 정렬하기2"
   ],
   "metadata": {
    "collapsed": false
   },
   "id": "9c5310f37deabaa7"
  },
  {
   "cell_type": "code",
   "outputs": [
    {
     "ename": "ValueError",
     "evalue": "invalid literal for int() with base 10: ''",
     "output_type": "error",
     "traceback": [
      "\u001B[1;31m---------------------------------------------------------------------------\u001B[0m",
      "\u001B[1;31mValueError\u001B[0m                                Traceback (most recent call last)",
      "Cell \u001B[1;32mIn[1], line 4\u001B[0m\n\u001B[0;32m      1\u001B[0m \u001B[38;5;28;01mimport\u001B[39;00m \u001B[38;5;21;01msys\u001B[39;00m\n\u001B[0;32m      3\u001B[0m \u001B[38;5;66;03m# 수의 개수 N 입력 받기\u001B[39;00m\n\u001B[1;32m----> 4\u001B[0m N \u001B[38;5;241m=\u001B[39m \u001B[38;5;28;43mint\u001B[39;49m\u001B[43m(\u001B[49m\u001B[43msys\u001B[49m\u001B[38;5;241;43m.\u001B[39;49m\u001B[43mstdin\u001B[49m\u001B[38;5;241;43m.\u001B[39;49m\u001B[43mreadline\u001B[49m\u001B[43m(\u001B[49m\u001B[43m)\u001B[49m\u001B[38;5;241;43m.\u001B[39;49m\u001B[43mstrip\u001B[49m\u001B[43m(\u001B[49m\u001B[43m)\u001B[49m\u001B[43m)\u001B[49m\n\u001B[0;32m      6\u001B[0m \u001B[38;5;66;03m# N개의 수를 저장할 리스트\u001B[39;00m\n\u001B[0;32m      7\u001B[0m numbers \u001B[38;5;241m=\u001B[39m []\n",
      "\u001B[1;31mValueError\u001B[0m: invalid literal for int() with base 10: ''"
     ]
    }
   ],
   "source": [
    "import sys\n",
    "\n",
    "# 수의 개수 N 입력 받기\n",
    "N = int(sys.stdin.readline().strip())\n",
    "\n",
    "# N개의 수를 저장할 리스트\n",
    "numbers = []\n",
    "\n",
    "# N번 반복하여 수 입력 받기\n",
    "for _ in range(N):\n",
    "    numbers.append(int(sys.stdin.readline().strip()))\n",
    "\n",
    "# 수를 오름차순으로 정렬\n",
    "sorted_numbers = sorted(numbers)\n",
    "\n",
    "# 정렬된 수를 출력\n",
    "for num in sorted_numbers:\n",
    "    print(num)\n"
   ],
   "metadata": {
    "collapsed": false,
    "ExecuteTime": {
     "end_time": "2024-03-16T03:36:55.092698Z",
     "start_time": "2024-03-16T03:36:54.957823Z"
    }
   },
   "id": "8f7c56bfbb7e49e3",
   "execution_count": 1
  },
  {
   "cell_type": "markdown",
   "source": [
    "2798 블랙잭"
   ],
   "metadata": {
    "collapsed": false
   },
   "id": "a5d9d4fb57a6eb33"
  },
  {
   "cell_type": "code",
   "outputs": [
    {
     "name": "stdout",
     "output_type": "stream",
     "text": [
      "21\n"
     ]
    }
   ],
   "source": [
    "N, M = map(int, input().split())\n",
    "\n",
    "cards = list(map(int, input().split()))\n",
    "\n",
    "# 가능한 카드 3장의 조합 중 M을 넘지 않으면서 M과 가장 가까운 합 찾기\n",
    "sum = 0\n",
    "for i in range(N):\n",
    "    for j in range(i + 1, N):\n",
    "        for k in range(j + 1, N):\n",
    "            current_sum = cards[i] + cards[j] + cards[k]\n",
    "            if sum < current_sum <= M:\n",
    "                sum = current_sum\n",
    "# 결과 출력\n",
    "print(sum)"
   ],
   "metadata": {
    "collapsed": false,
    "ExecuteTime": {
     "end_time": "2024-03-16T03:48:37.928877Z",
     "start_time": "2024-03-16T03:48:32.641292Z"
    }
   },
   "id": "bfd7be1396a0ff83",
   "execution_count": 2
  },
  {
   "cell_type": "markdown",
   "source": [
    "9012번 괄호"
   ],
   "metadata": {
    "collapsed": false
   },
   "id": "5d6abb3cb58b413d"
  },
  {
   "cell_type": "code",
   "outputs": [
    {
     "name": "stdout",
     "output_type": "stream",
     "text": [
      "YES\n"
     ]
    }
   ],
   "source": [
    "def is_vps(ps):\n",
    "    stack = []\n",
    "    for char in ps:\n",
    "        if char == \"(\":\n",
    "            stack.append(char) # 여는 괄호를 만나면 스택에 추가\n",
    "        elif char == \")\":\n",
    "            if stack:\n",
    "                stack.pop() # 스택에 여는 괄호가 있으면, 마지막 여는 괄호를 스택에서 제거\n",
    "            else:\n",
    "                return \"No\" # 스택이 비어있는데 닫는 괄호를 만나면 VPS가 아니다.\n",
    "    return \"YES\" if not stack else \"No\" # 모든 과정 후 스택이 비어 있으면 VPS, 스택이 차 있으면 VPS가 아니다.\n",
    "\n",
    "# 테스트 케이스의 개수 T 입력받기\n",
    "T = int(input(\"테스트 케이스 개수\"))\n",
    "\n",
    "# T개의 테스트 케이스에 대해 VPS 판단\n",
    "for _ in range(T):\n",
    "    ps = input(\"괄호\")\n",
    "    print(is_vps(ps))"
   ],
   "metadata": {
    "collapsed": false,
    "ExecuteTime": {
     "end_time": "2024-03-16T06:34:53.185165Z",
     "start_time": "2024-03-16T06:34:50.997734Z"
    }
   },
   "id": "422f7a1e60c3031",
   "execution_count": 2
  },
  {
   "cell_type": "markdown",
   "source": [
    "10814 나이순 정렬"
   ],
   "metadata": {
    "collapsed": false
   },
   "id": "1288fad54f543abd"
  },
  {
   "cell_type": "code",
   "outputs": [
    {
     "name": "stdout",
     "output_type": "stream",
     "text": [
      "20 Sunyoung\n",
      "21 Junkyu\n",
      "21 Dohyun\n"
     ]
    }
   ],
   "source": [
    "N = int(input(\"회원 수 입력\"))\n",
    "members = []\n",
    "\n",
    "for _ in range(N):\n",
    "    age, name = input().split()\n",
    "    age = int(age)\n",
    "    members.append((age, name))\n",
    "    \n",
    "# 나이 순으로 정렬하되, 나이가 같으면 입력 순서(가입 순서)를 유지하는 정렬(안정 정렬)\n",
    "members.sort(key=lambda x: x[0])\n",
    "\n",
    "# 결과 출력\n",
    "for member in members:\n",
    "    print(member[0], member[1])"
   ],
   "metadata": {
    "collapsed": false,
    "ExecuteTime": {
     "end_time": "2024-03-16T06:46:49.618370Z",
     "start_time": "2024-03-16T06:46:34.807801Z"
    }
   },
   "id": "dec0708c7a78b006",
   "execution_count": 3
  },
  {
   "cell_type": "markdown",
   "source": [
    "10816 숫자 카드 2"
   ],
   "metadata": {
    "collapsed": false
   },
   "id": "97c2eb82ff93ec43"
  },
  {
   "cell_type": "code",
   "outputs": [
    {
     "name": "stdout",
     "output_type": "stream",
     "text": [
      "3 0 0 1 2 0 0 2 "
     ]
    }
   ],
   "source": [
    "from collections import Counter\n",
    "# 입력 받기\n",
    "N = int(input(\"A가 가진 숫자 카드 개수\"))\n",
    "cards = list(map(int, input(\"숫자 카드에 찍힌 정수들\").split()))\n",
    "\n",
    "# 카드 개수 세기\n",
    "card_count = Counter(cards)\n",
    "\n",
    "M = int(input(\"구해야 할 숫자 카드의 개수 M\"))\n",
    "m_cards = list(map(int, input(\"숫자 카드 입력 받기\").split())) # 확인해야 할 숫자 카드들\n",
    "\n",
    "# 결과 출력\n",
    "for m_card in m_cards:\n",
    "    print(card_count[m_card], end=\" \")# 각 숫자 카드가 몇 개 있는지 출력"
   ],
   "metadata": {
    "collapsed": false,
    "ExecuteTime": {
     "end_time": "2024-03-16T07:03:18.189541Z",
     "start_time": "2024-03-16T07:03:04.260901Z"
    }
   },
   "id": "9fb9f5d056172236",
   "execution_count": 4
  },
  {
   "cell_type": "markdown",
   "source": [
    "10828 스택"
   ],
   "metadata": {
    "collapsed": false
   },
   "id": "35bfe4426a837d7d"
  },
  {
   "cell_type": "code",
   "outputs": [
    {
     "ename": "ValueError",
     "evalue": "invalid literal for int() with base 10: ''",
     "output_type": "error",
     "traceback": [
      "\u001B[1;31m---------------------------------------------------------------------------\u001B[0m",
      "\u001B[1;31mValueError\u001B[0m                                Traceback (most recent call last)",
      "Cell \u001B[1;32mIn[2], line 3\u001B[0m\n\u001B[0;32m      1\u001B[0m \u001B[38;5;28;01mimport\u001B[39;00m \u001B[38;5;21;01msys\u001B[39;00m\n\u001B[1;32m----> 3\u001B[0m N \u001B[38;5;241m=\u001B[39m \u001B[38;5;28;43mint\u001B[39;49m\u001B[43m(\u001B[49m\u001B[43msys\u001B[49m\u001B[38;5;241;43m.\u001B[39;49m\u001B[43mstdin\u001B[49m\u001B[38;5;241;43m.\u001B[39;49m\u001B[43mreadline\u001B[49m\u001B[43m(\u001B[49m\u001B[43m)\u001B[49m\u001B[43m)\u001B[49m\n\u001B[0;32m      4\u001B[0m stack \u001B[38;5;241m=\u001B[39m []\n\u001B[0;32m      6\u001B[0m \u001B[38;5;28;01mfor\u001B[39;00m _ \u001B[38;5;129;01min\u001B[39;00m \u001B[38;5;28mrange\u001B[39m(N):\n",
      "\u001B[1;31mValueError\u001B[0m: invalid literal for int() with base 10: ''"
     ]
    }
   ],
   "source": [
    "import sys\n",
    "\n",
    "N = int(sys.stdin.readline())\n",
    "stack = []\n",
    "\n",
    "for _ in range(N):\n",
    "    command = sys.stdin.readline().strip().split()\n",
    "    \n",
    "    if command[0] == \"push\":\n",
    "        stack.append(int(command[1]))\n",
    "    elif command[0] == \"pop\":\n",
    "        if stack:\n",
    "            print(stack.pop())\n",
    "        else:\n",
    "            print(-1)\n",
    "    elif command[0] == \"size\":\n",
    "        print(len(stack))\n",
    "    elif command[0] == \"empty\":\n",
    "        print(1 if not stack else 0)\n",
    "    elif command[0] == \"top\":\n",
    "        if stack:\n",
    "            print(stack[-1])\n",
    "        else:\n",
    "            print(-1)\n"
   ],
   "metadata": {
    "collapsed": false,
    "ExecuteTime": {
     "end_time": "2024-03-16T07:28:03.258927Z",
     "start_time": "2024-03-16T07:28:03.234079Z"
    }
   },
   "id": "2e9fa6f5f4d51959",
   "execution_count": 2
  },
  {
   "cell_type": "markdown",
   "source": [
    "10845 큐"
   ],
   "metadata": {
    "collapsed": false
   },
   "id": "fb6ef22d3b7f078f"
  },
  {
   "cell_type": "code",
   "outputs": [],
   "source": [
    "import sys\n",
    "from collections import deque\n",
    "\n",
    "N = int(sys.stdin.readline())\n",
    "queue = deque()\n",
    "for _ in range(N):\n",
    "    command = sys.stdin.readline().strip().split()\n",
    "    if command[0] == \"push\":\n",
    "        queue.append(int(command[1]))\n",
    "    elif command[0] == \"pop\":\n",
    "        if queue:\n",
    "            print(queue.popleft())\n",
    "        else:\n",
    "            print(-1)\n",
    "    elif command[0] == \"size\":\n",
    "        print(len(queue))\n",
    "    elif command[0] == \"empty\":\n",
    "        print(1 if not queue else 0)\n",
    "    elif command[0] == \"front\":\n",
    "        print(queue[0] if queue else -1)\n",
    "    elif command[0] == \"back\":\n",
    "        print(queue[-1] if queue else -1)"
   ],
   "metadata": {
    "collapsed": false
   },
   "id": "6135783ae5cc0e35"
  }
 ],
 "metadata": {
  "kernelspec": {
   "display_name": "Python 3",
   "language": "python",
   "name": "python3"
  },
  "language_info": {
   "codemirror_mode": {
    "name": "ipython",
    "version": 3
   },
   "file_extension": ".py",
   "mimetype": "text/x-python",
   "name": "python",
   "nbconvert_exporter": "python",
   "pygments_lexer": "ipython3",
   "version": "3.11.5"
  }
 },
 "nbformat": 4,
 "nbformat_minor": 5
}
